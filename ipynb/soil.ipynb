{
 "cells": [
  {
   "cell_type": "markdown",
   "id": "abcc76e6-7e27-4c36-a18a-9b1fb32633a5",
   "metadata": {},
   "source": [
    "#### Soil Image Classification using RESNET"
   ]
  },
  {
   "cell_type": "code",
   "execution_count": 46,
   "id": "9bb56505-71ca-44e0-aa90-285bd08d8c4a",
   "metadata": {},
   "outputs": [],
   "source": [
    "import os\n",
    "import shutil\n",
    "import random\n",
    "import torch\n",
    "import torch.nn as nn\n",
    "import torch.optim as optim\n",
    "from torchvision import datasets, models, transforms\n",
    "from torch.utils.data import DataLoader\n",
    "from sklearn.model_selection import train_test_split\n",
    "from sklearn.metrics import accuracy_score, confusion_matrix\n",
    "import matplotlib.pyplot as plt\n",
    "import numpy as np"
   ]
  },
  {
   "cell_type": "code",
   "execution_count": 48,
   "id": "ce2488ac-004d-4830-b099-5963971ca019",
   "metadata": {},
   "outputs": [],
   "source": [
    "# Set random seeds for reproducibility\n",
    "random.seed(42)\n",
    "torch.manual_seed(42)\n",
    "\n",
    "# Set device\n",
    "device = torch.device(\"cuda\" if torch.cuda.is_available() else \"cpu\")"
   ]
  },
  {
   "cell_type": "code",
   "execution_count": 50,
   "id": "925bf88e-f404-4115-8e33-3dad1276fec5",
   "metadata": {},
   "outputs": [],
   "source": [
    "# Define paths\n",
    "base_dir = r'C:/Users/Harshith Y/Desktop/soil_images'  # Replace with your actual path\n",
    "output_dir = r'C:/Users/Harshith Y/Desktop/soil'  # Where train/test will be created"
   ]
  },
  {
   "cell_type": "code",
   "execution_count": 52,
   "id": "4699fd74-df97-45ff-aeed-7355256ecb26",
   "metadata": {},
   "outputs": [],
   "source": [
    "# Step 1: Preprocessing and Train-Test Split\n",
    "def prepare_dataset(base_dir, output_dir, test_size=0.2):\n",
    "    if os.path.exists(output_dir):\n",
    "        shutil.rmtree(output_dir)  # Clear previous split if exists\n",
    "    \n",
    "    os.makedirs(output_dir, exist_ok=True)\n",
    "    for split in ['train', 'test']:\n",
    "        os.makedirs(os.path.join(output_dir, split), exist_ok=True)\n",
    "    \n",
    "    # Classes\n",
    "    classes = ['Red', 'Black', 'Alluvial', 'Laterite']\n",
    "    \n",
    "    for class_name in classes:\n",
    "        class_path = os.path.join(base_dir, class_name)\n",
    "        print(f\"Checking path: {class_path}\")  # Debug\n",
    "        if not os.path.exists(class_path):\n",
    "            raise FileNotFoundError(f\"Directory not found: {class_path}\")\n",
    "        images = os.listdir(class_path)\n",
    "        images = [os.path.join(class_path, img) for img in images if img.endswith(('.jpg', '.png', '.jpeg'))]\n",
    "        \n",
    "        # Split into train and test\n",
    "        train_imgs, test_imgs = train_test_split(images, test_size=test_size, random_state=42)\n",
    "        \n",
    "        # Create class folders in train/test\n",
    "        for split, img_list in [('train', train_imgs), ('test', test_imgs)]:\n",
    "            split_class_dir = os.path.join(output_dir, split, class_name)\n",
    "            os.makedirs(split_class_dir, exist_ok=True)\n",
    "            for img in img_list:\n",
    "                shutil.copy(img, split_class_dir)"
   ]
  },
  {
   "cell_type": "code",
   "execution_count": 54,
   "id": "f35366f5-1159-4530-9bd0-98f117f5e9a2",
   "metadata": {},
   "outputs": [],
   "source": [
    "# Step 2: Data Transformations (Enhanced Augmentation)\n",
    "data_transforms = {\n",
    "    'train': transforms.Compose([\n",
    "        transforms.Resize((224, 224)),\n",
    "        transforms.RandomHorizontalFlip(),\n",
    "        transforms.RandomRotation(20),\n",
    "        transforms.ColorJitter(brightness=0.2, contrast=0.2, saturation=0.2),\n",
    "        transforms.RandomResizedCrop(224, scale=(0.8, 1.0)),\n",
    "        transforms.ToTensor(),\n",
    "        transforms.Normalize([0.485, 0.456, 0.406], [0.229, 0.224, 0.225])\n",
    "    ]),\n",
    "    'test': transforms.Compose([\n",
    "        transforms.Resize((224, 224)),\n",
    "        transforms.ToTensor(),\n",
    "        transforms.Normalize([0.485, 0.456, 0.406], [0.229, 0.224, 0.225])\n",
    "    ]),\n",
    "}"
   ]
  },
  {
   "cell_type": "code",
   "execution_count": 56,
   "id": "2b0b1cde-fbeb-4636-b637-be4dff4bdde6",
   "metadata": {},
   "outputs": [
    {
     "name": "stdout",
     "output_type": "stream",
     "text": [
      "Checking path: C:/Users/Harshith Y/Desktop/soil_images\\Red\n",
      "Checking path: C:/Users/Harshith Y/Desktop/soil_images\\Black\n",
      "Checking path: C:/Users/Harshith Y/Desktop/soil_images\\Alluvial\n",
      "Checking path: C:/Users/Harshith Y/Desktop/soil_images\\Laterite\n",
      "Class names: ['Alluvial', 'Black', 'Laterite', 'Red']\n",
      "Train size: 139, Test size: 35\n"
     ]
    }
   ],
   "source": [
    "# Step 3: Load and Split Dataset\n",
    "prepare_dataset(base_dir, output_dir, test_size=0.2)\n",
    "\n",
    "image_datasets = {\n",
    "    'train': datasets.ImageFolder(os.path.join(output_dir, 'train'), transform=data_transforms['train']),\n",
    "    'test': datasets.ImageFolder(os.path.join(output_dir, 'test'), transform=data_transforms['test'])\n",
    "}\n",
    "\n",
    "dataloaders = {\n",
    "    'train': DataLoader(image_datasets['train'], batch_size=32, shuffle=True, num_workers=4),\n",
    "    'test': DataLoader(image_datasets['test'], batch_size=32, shuffle=False, num_workers=4)\n",
    "}\n",
    "\n",
    "# Dataset sizes and class names\n",
    "dataset_sizes = {x: len(image_datasets[x]) for x in ['train', 'test']}\n",
    "class_names = image_datasets['train'].classes\n",
    "print(f\"Class names: {class_names}\")\n",
    "print(f\"Train size: {dataset_sizes['train']}, Test size: {dataset_sizes['test']}\")"
   ]
  },
  {
   "cell_type": "code",
   "execution_count": 58,
   "id": "9b7ca2b7-9422-49c8-afaa-d911ca42fe3f",
   "metadata": {},
   "outputs": [
    {
     "name": "stderr",
     "output_type": "stream",
     "text": [
      "C:\\Users\\Harshith Y\\anaconda3\\Lib\\site-packages\\torchvision\\models\\_utils.py:208: UserWarning: The parameter 'pretrained' is deprecated since 0.13 and may be removed in the future, please use 'weights' instead.\n",
      "  warnings.warn(\n",
      "C:\\Users\\Harshith Y\\anaconda3\\Lib\\site-packages\\torchvision\\models\\_utils.py:223: UserWarning: Arguments other than a weight enum or `None` for 'weights' are deprecated since 0.13 and may be removed in the future. The current behavior is equivalent to passing `weights=ResNet50_Weights.IMAGENET1K_V1`. You can also use `weights=ResNet50_Weights.DEFAULT` to get the most up-to-date weights.\n",
      "  warnings.warn(msg)\n"
     ]
    }
   ],
   "source": [
    "# Step 4: Load and Modify ResNet-50\n",
    "model = models.resnet50(pretrained=True)\n",
    "\n",
    "# Unfreeze layer4 and fc for fine-tuning\n",
    "for name, param in model.named_parameters():\n",
    "    if \"layer4\" in name or \"fc\" in name:\n",
    "        param.requires_grad = True\n",
    "    else:\n",
    "        param.requires_grad = False\n",
    "\n",
    "# Modify the final fully connected layer\n",
    "num_ftrs = model.fc.in_features\n",
    "model.fc = nn.Linear(num_ftrs, len(class_names))  # 4 classes\n",
    "model = model.to(device)\n",
    "\n",
    "# Loss function, optimizer, and scheduler\n",
    "criterion = nn.CrossEntropyLoss()\n",
    "optimizer = optim.Adam(filter(lambda p: p.requires_grad, model.parameters()), lr=0.0001)\n",
    "scheduler = optim.lr_scheduler.StepLR(optimizer, step_size=5, gamma=0.1)"
   ]
  },
  {
   "cell_type": "code",
   "execution_count": 60,
   "id": "c9460119-0ad0-4aa2-9b8f-57736a5f5836",
   "metadata": {},
   "outputs": [],
   "source": [
    "# Step 5: Training Function with Scheduler\n",
    "def train_model(model, criterion, optimizer, scheduler, num_epochs=20):\n",
    "    train_losses = []\n",
    "    for epoch in range(num_epochs):\n",
    "        print(f'Epoch {epoch+1}/{num_epochs}')\n",
    "        model.train()\n",
    "        running_loss = 0.0\n",
    "        for inputs, labels in dataloaders['train']:\n",
    "            inputs, labels = inputs.to(device), labels.to(device)\n",
    "            \n",
    "            optimizer.zero_grad()\n",
    "            outputs = model(inputs)\n",
    "            loss = criterion(outputs, labels)\n",
    "            loss.backward()\n",
    "            optimizer.step()\n",
    "            \n",
    "            running_loss += loss.item() * inputs.size(0)\n",
    "        \n",
    "        epoch_loss = running_loss / dataset_sizes['train']\n",
    "        train_losses.append(epoch_loss)\n",
    "        print(f'Train Loss: {epoch_loss:.4f}')\n",
    "        scheduler.step()  # Adjust learning rate\n",
    "    \n",
    "    # Plot training loss\n",
    "    plt.plot(range(1, num_epochs+1), train_losses, label='Training Loss')\n",
    "    plt.xlabel('Epoch')\n",
    "    plt.ylabel('Loss')\n",
    "    plt.title('Training Loss Over Time')\n",
    "    plt.legend()\n",
    "    plt.show()\n",
    "    \n",
    "    return model"
   ]
  },
  {
   "cell_type": "code",
   "execution_count": 62,
   "id": "db0f39c6-14bf-486e-82d6-81361922e025",
   "metadata": {},
   "outputs": [],
   "source": [
    "# Step 6: Evaluation Function\n",
    "def evaluate_model(model):\n",
    "    model.eval()\n",
    "    all_preds = []\n",
    "    all_labels = []\n",
    "    with torch.no_grad():\n",
    "        for inputs, labels in dataloaders['test']:\n",
    "            inputs, labels = inputs.to(device), labels.to(device)\n",
    "            outputs = model(inputs)\n",
    "            _, preds = torch.max(outputs, 1)\n",
    "            all_preds.extend(preds.cpu().numpy())\n",
    "            all_labels.extend(labels.cpu().numpy())\n",
    "    \n",
    "    accuracy = accuracy_score(all_labels, all_preds)\n",
    "    cm = confusion_matrix(all_labels, all_preds)\n",
    "    print(f'Test Accuracy: {accuracy * 100:.2f}%')\n",
    "    print(\"Confusion Matrix:\")\n",
    "    print(cm)\n",
    "    \n",
    "    # Plot confusion matrix\n",
    "    plt.figure(figsize=(8, 6))\n",
    "    plt.imshow(cm, interpolation='nearest', cmap=plt.cm.Blues)\n",
    "    plt.title('Confusion Matrix')\n",
    "    plt.colorbar()\n",
    "    tick_marks = np.arange(len(class_names))\n",
    "    plt.xticks(tick_marks, class_names, rotation=45)\n",
    "    plt.yticks(tick_marks, class_names)\n",
    "    plt.xlabel('Predicted Label')\n",
    "    plt.ylabel('True Label')\n",
    "    for i in range(len(class_names)):\n",
    "        for j in range(len(class_names)):\n",
    "            plt.text(j, i, cm[i, j], ha='center', va='center', color='black')\n",
    "    plt.show()\n",
    "    \n",
    "    return accuracy"
   ]
  },
  {
   "cell_type": "code",
   "execution_count": 64,
   "id": "58ee89e7-b690-4c82-a08f-4460faeb8277",
   "metadata": {},
   "outputs": [
    {
     "name": "stdout",
     "output_type": "stream",
     "text": [
      "Starting training...\n",
      "Epoch 1/20\n",
      "Train Loss: 1.2924\n",
      "Epoch 2/20\n",
      "Train Loss: 0.8049\n",
      "Epoch 3/20\n",
      "Train Loss: 0.5358\n",
      "Epoch 4/20\n",
      "Train Loss: 0.4217\n",
      "Epoch 5/20\n",
      "Train Loss: 0.3052\n",
      "Epoch 6/20\n",
      "Train Loss: 0.2138\n",
      "Epoch 7/20\n",
      "Train Loss: 0.2333\n",
      "Epoch 8/20\n",
      "Train Loss: 0.2993\n",
      "Epoch 9/20\n",
      "Train Loss: 0.1900\n",
      "Epoch 10/20\n",
      "Train Loss: 0.2409\n",
      "Epoch 11/20\n",
      "Train Loss: 0.2340\n",
      "Epoch 12/20\n",
      "Train Loss: 0.2289\n",
      "Epoch 13/20\n",
      "Train Loss: 0.2166\n",
      "Epoch 14/20\n",
      "Train Loss: 0.1937\n",
      "Epoch 15/20\n",
      "Train Loss: 0.1868\n",
      "Epoch 16/20\n",
      "Train Loss: 0.2496\n",
      "Epoch 17/20\n",
      "Train Loss: 0.1645\n",
      "Epoch 18/20\n",
      "Train Loss: 0.2034\n",
      "Epoch 19/20\n",
      "Train Loss: 0.2217\n",
      "Epoch 20/20\n",
      "Train Loss: 0.2128\n"
     ]
    },
    {
     "data": {
      "image/png": "[encoded data removed]",
      "text/plain": [
       "<Figure size 640x480 with 1 Axes>"
      ]
     },
     "metadata": {},
     "output_type": "display_data"
    },
    {
     "name": "stdout",
     "output_type": "stream",
     "text": [
      "\n",
      "Evaluating model...\n",
      "Test Accuracy: 80.00%\n",
      "Confusion Matrix:\n",
      "[[5 1 2 0]\n",
      " [1 8 0 0]\n",
      " [0 0 9 0]\n",
      " [0 0 3 6]]\n"
     ]
    },
    {
     "data": {
      "image/png": "[encoded data removed]",
      "text/plain": [
       "<Figure size 800x600 with 2 Axes>"
      ]
     },
     "metadata": {},
     "output_type": "display_data"
    }
   ],
   "source": [
    "# Step 7: Train and Evaluate\n",
    "print(\"Starting training...\")\n",
    "model = train_model(model, criterion, optimizer, scheduler, num_epochs=20)\n",
    "print(\"\\nEvaluating model...\")\n",
    "accuracy = evaluate_model(model)"
   ]
  },
  {
   "cell_type": "code",
   "execution_count": 101,
   "id": "6ae8dfb9-fde5-4b95-bf43-e9addabad91e",
   "metadata": {},
   "outputs": [
    {
     "name": "stdout",
     "output_type": "stream",
     "text": [
      "Model saved as 'soil_resnet50_complete.pth'\n"
     ]
    }
   ],
   "source": [
    "# Step 8: Save the model\n",
    "torch.save(model.state_dict(), 'C:/Users/Harshith Y/Desktop/soil_resnet50_complete.pth')\n",
    "print(\"Model saved as 'soil_resnet50_complete.pth'\")"
   ]
  },
  {
   "cell_type": "markdown",
   "id": "0dab2f70-59d4-4de3-a1b0-715dc07d5b82",
   "metadata": {},
   "source": [
    "#### Soil Image Classification using CNN-ALEXNET"
   ]
  },
  {
   "cell_type": "code",
   "execution_count": 31,
   "id": "6cd9b38e-d2fb-4d00-9fc6-d94b86c3f847",
   "metadata": {},
   "outputs": [],
   "source": [
    "import os\n",
    "import shutil\n",
    "import random\n",
    "import torch\n",
    "import torch.nn as nn\n",
    "import torch.optim as optim\n",
    "from torchvision import datasets, models, transforms\n",
    "from torch.utils.data import DataLoader\n",
    "from sklearn.model_selection import train_test_split\n",
    "from sklearn.metrics import accuracy_score, confusion_matrix\n",
    "import matplotlib.pyplot as plt\n",
    "import numpy as np"
   ]
  },
  {
   "cell_type": "code",
   "execution_count": 33,
   "id": "c9d81401-7b2c-4b15-80f0-f095e1316774",
   "metadata": {},
   "outputs": [],
   "source": [
    "# Set random seeds for reproducibility\n",
    "random.seed(42)\n",
    "torch.manual_seed(42)\n",
    "\n",
    "# Set device\n",
    "device = torch.device(\"cuda\" if torch.cuda.is_available() else \"cpu\")"
   ]
  },
  {
   "cell_type": "code",
   "execution_count": 35,
   "id": "86b1fe00-ef24-4096-a236-e4282b92644b",
   "metadata": {},
   "outputs": [],
   "source": [
    "# Define paths\n",
    "base_dir = r'C:/Users/Harshith Y/Desktop/soil_images'  # Replace with your actual path\n",
    "output_dir = r'C:/Users/Harshith Y/Desktop/alexnet'  # Where train/test will be created"
   ]
  },
  {
   "cell_type": "code",
   "execution_count": 37,
   "id": "a865f057-8804-47cd-9fcd-329a9c899eeb",
   "metadata": {},
   "outputs": [],
   "source": [
    "# Step 1: Preprocessing and Train-Test Split\n",
    "def prepare_dataset(base_dir, output_dir, test_size=0.2):\n",
    "    if os.path.exists(output_dir):\n",
    "        shutil.rmtree(output_dir)  # Clear previous split if exists\n",
    "    \n",
    "    os.makedirs(output_dir, exist_ok=True)\n",
    "    for split in ['train', 'test']:\n",
    "        os.makedirs(os.path.join(output_dir, split), exist_ok=True)\n",
    "    \n",
    "    # Classes\n",
    "    classes = ['Red', 'Black', 'Alluvial', 'Laterite']\n",
    "    \n",
    "    for class_name in classes:\n",
    "        class_path = os.path.join(base_dir, class_name)\n",
    "        print(f\"Checking path: {class_path}\")  # Debug\n",
    "        if not os.path.exists(class_path):\n",
    "            raise FileNotFoundError(f\"Directory not found: {class_path}\")\n",
    "        images = os.listdir(class_path)\n",
    "        images = [os.path.join(class_path, img) for img in images if img.endswith(('.jpg', '.png', '.jpeg'))]\n",
    "        \n",
    "        # Split into train and test\n",
    "        train_imgs, test_imgs = train_test_split(images, test_size=test_size, random_state=42)\n",
    "        \n",
    "        # Create class folders in train/test\n",
    "        for split, img_list in [('train', train_imgs), ('test', test_imgs)]:\n",
    "            split_class_dir = os.path.join(output_dir, split, class_name)\n",
    "            os.makedirs(split_class_dir, exist_ok=True)\n",
    "            for img in img_list:\n",
    "                shutil.copy(img, split_class_dir)"
   ]
  },
  {
   "cell_type": "code",
   "execution_count": 39,
   "id": "d1da86a3-c14e-4641-b30a-b36b5ad3e8ac",
   "metadata": {},
   "outputs": [],
   "source": [
    "# Step 2: Data Transformations\n",
    "data_transforms = {\n",
    "    'train': transforms.Compose([\n",
    "        transforms.Resize((224, 224)),  # AlexNet expects 224x224\n",
    "        transforms.RandomHorizontalFlip(),\n",
    "        transforms.RandomRotation(20),\n",
    "        transforms.ColorJitter(brightness=0.2, contrast=0.2, saturation=0.2),\n",
    "        transforms.RandomResizedCrop(224, scale=(0.8, 1.0)),\n",
    "        transforms.ToTensor(),\n",
    "        transforms.Normalize([0.485, 0.456, 0.406], [0.229, 0.224, 0.225])  # ImageNet stats\n",
    "    ]),\n",
    "    'test': transforms.Compose([\n",
    "        transforms.Resize((224, 224)),\n",
    "        transforms.ToTensor(),\n",
    "        transforms.Normalize([0.485, 0.456, 0.406], [0.229, 0.224, 0.225])\n",
    "    ]),\n",
    "}"
   ]
  },
  {
   "cell_type": "code",
   "execution_count": 41,
   "id": "b22b9854-1848-4972-ad23-7db6160a58e8",
   "metadata": {},
   "outputs": [
    {
     "name": "stdout",
     "output_type": "stream",
     "text": [
      "Checking path: C:/Users/Harshith Y/Desktop/soil_images\\Red\n",
      "Checking path: C:/Users/Harshith Y/Desktop/soil_images\\Black\n",
      "Checking path: C:/Users/Harshith Y/Desktop/soil_images\\Alluvial\n",
      "Checking path: C:/Users/Harshith Y/Desktop/soil_images\\Laterite\n",
      "Class names: ['Alluvial', 'Black', 'Laterite', 'Red']\n",
      "Train size: 139, Test size: 35\n"
     ]
    }
   ],
   "source": [
    "# Step 3: Load and Split Dataset\n",
    "prepare_dataset(base_dir, output_dir, test_size=0.2)\n",
    "\n",
    "image_datasets = {\n",
    "    'train': datasets.ImageFolder(os.path.join(output_dir, 'train'), transform=data_transforms['train']),\n",
    "    'test': datasets.ImageFolder(os.path.join(output_dir, 'test'), transform=data_transforms['test'])\n",
    "}\n",
    "\n",
    "dataloaders = {\n",
    "    'train': DataLoader(image_datasets['train'], batch_size=32, shuffle=True, num_workers=4),\n",
    "    'test': DataLoader(image_datasets['test'], batch_size=32, shuffle=False, num_workers=4)\n",
    "}\n",
    "# Dataset sizes and class names\n",
    "dataset_sizes = {x: len(image_datasets[x]) for x in ['train', 'test']}\n",
    "class_names = image_datasets['train'].classes\n",
    "print(f\"Class names: {class_names}\")\n",
    "print(f\"Train size: {dataset_sizes['train']}, Test size: {dataset_sizes['test']}\")"
   ]
  },
  {
   "cell_type": "code",
   "execution_count": 43,
   "id": "532e2115-4740-4584-b40a-cd3eb385b693",
   "metadata": {},
   "outputs": [
    {
     "name": "stderr",
     "output_type": "stream",
     "text": [
      "C:\\Users\\Harshith Y\\anaconda3\\Lib\\site-packages\\torchvision\\models\\_utils.py:208: UserWarning: The parameter 'pretrained' is deprecated since 0.13 and may be removed in the future, please use 'weights' instead.\n",
      "  warnings.warn(\n",
      "C:\\Users\\Harshith Y\\anaconda3\\Lib\\site-packages\\torchvision\\models\\_utils.py:223: UserWarning: Arguments other than a weight enum or `None` for 'weights' are deprecated since 0.13 and may be removed in the future. The current behavior is equivalent to passing `weights=AlexNet_Weights.IMAGENET1K_V1`. You can also use `weights=AlexNet_Weights.DEFAULT` to get the most up-to-date weights.\n",
      "  warnings.warn(msg)\n"
     ]
    }
   ],
   "source": [
    "# Step 4: Load and Modify AlexNet\n",
    "model = models.alexnet(pretrained=True)\n",
    "\n",
    "# Modify the classifier for 4 classes (AlexNet's classifier is a Sequential module)\n",
    "model.classifier[6] = nn.Linear(4096, len(class_names))  # Replace the last layer (originally 1000 classes)\n",
    "model = model.to(device)\n",
    "\n",
    "# Loss function, optimizer, and scheduler\n",
    "criterion = nn.CrossEntropyLoss()\n",
    "optimizer = optim.Adam(model.parameters(), lr=0.0001)  # Fine-tune all layers\n",
    "scheduler = optim.lr_scheduler.StepLR(optimizer, step_size=5, gamma=0.1)"
   ]
  },
  {
   "cell_type": "code",
   "execution_count": 45,
   "id": "8c3a4bdb-ad32-4dfe-8791-9821e00fcc4c",
   "metadata": {},
   "outputs": [],
   "source": [
    "# Step 5: Training Function with Scheduler\n",
    "def train_model(model, criterion, optimizer, scheduler, num_epochs=20):\n",
    "    train_losses = []\n",
    "    for epoch in range(num_epochs):\n",
    "        print(f'Epoch {epoch+1}/{num_epochs}')\n",
    "        model.train()\n",
    "        running_loss = 0.0\n",
    "        for inputs, labels in dataloaders['train']:\n",
    "            inputs, labels = inputs.to(device), labels.to(device)\n",
    "            \n",
    "            optimizer.zero_grad()\n",
    "            outputs = model(inputs)\n",
    "            loss = criterion(outputs, labels)\n",
    "            loss.backward()\n",
    "            optimizer.step()\n",
    "            \n",
    "            running_loss += loss.item() * inputs.size(0)\n",
    "        \n",
    "        epoch_loss = running_loss / dataset_sizes['train']\n",
    "        train_losses.append(epoch_loss)\n",
    "        print(f'Train Loss: {epoch_loss:.4f}')\n",
    "        scheduler.step()  # Adjust learning rate\n",
    "    \n",
    "    # Plot training loss\n",
    "    plt.plot(range(1, num_epochs+1), train_losses, label='Training Loss')\n",
    "    plt.xlabel('Epoch')\n",
    "    plt.ylabel('Loss')\n",
    "    plt.title('Training Loss Over Time')\n",
    "    plt.legend()\n",
    "    plt.show()\n",
    "    \n",
    "    return model"
   ]
  },
  {
   "cell_type": "code",
   "execution_count": 49,
   "id": "8cff880b-8686-409a-ac0b-5cb393005629",
   "metadata": {},
   "outputs": [],
   "source": [
    "# Step 6: Evaluation Function\n",
    "def evaluate_model(model):\n",
    "    model.eval()\n",
    "    all_preds = []\n",
    "    all_labels = []\n",
    "    with torch.no_grad():\n",
    "        for inputs, labels in dataloaders['test']:\n",
    "            inputs, labels = inputs.to(device), labels.to(device)\n",
    "            outputs = model(inputs)\n",
    "            _, preds = torch.max(outputs, 1)\n",
    "            all_preds.extend(preds.cpu().numpy())\n",
    "            all_labels.extend(labels.cpu().numpy())\n",
    "    \n",
    "    accuracy = accuracy_score(all_labels, all_preds)\n",
    "    cm = confusion_matrix(all_labels, all_preds)\n",
    "    print(f'Test Accuracy: {accuracy * 100:.2f}%')\n",
    "    print(\"Confusion Matrix:\")\n",
    "    print(cm)\n",
    "    \n",
    "    # Plot confusion matrix\n",
    "    plt.figure(figsize=(8, 6))\n",
    "    pltrichment = cm, interpolation='nearest'\n",
    "    plt.title('Confusion Matrix')\n",
    "    plt.colorbar()\n",
    "    tick_marks = np.arange(len(class_names))\n",
    "    plt.xticks(tick_marks, class_names, rotation=45)\n",
    "    plt.yticks(tick_marks, class_names)\n",
    "    plt.xlabel('Predicted Label')\n",
    "    plt.ylabel('True Label')\n",
    "    for i in range(len(class_names)):\n",
    "        for j in range(len(class_names)):\n",
    "            plt.text(j, i, cm[i, j], ha='center', va='center', color='black')\n",
    "    plt.show()\n",
    "    \n",
    "    return accuracy"
   ]
  },
  {
   "cell_type": "code",
   "execution_count": 51,
   "id": "7630aa34-e2bd-4811-aeb5-d6ab142f8533",
   "metadata": {},
   "outputs": [
    {
     "name": "stdout",
     "output_type": "stream",
     "text": [
      "Starting training with AlexNet...\n",
      "Epoch 1/20\n",
      "Train Loss: 1.3392\n",
      "Epoch 2/20\n",
      "Train Loss: 0.6752\n",
      "Epoch 3/20\n",
      "Train Loss: 0.5234\n",
      "Epoch 4/20\n",
      "Train Loss: 0.3518\n",
      "Epoch 5/20\n",
      "Train Loss: 0.3309\n",
      "Epoch 6/20\n",
      "Train Loss: 0.2543\n",
      "Epoch 7/20\n",
      "Train Loss: 0.2679\n",
      "Epoch 8/20\n",
      "Train Loss: 0.1930\n",
      "Epoch 9/20\n",
      "Train Loss: 0.2664\n",
      "Epoch 10/20\n",
      "Train Loss: 0.2445\n",
      "Epoch 11/20\n",
      "Train Loss: 0.2006\n",
      "Epoch 12/20\n",
      "Train Loss: 0.2172\n",
      "Epoch 13/20\n",
      "Train Loss: 0.2339\n",
      "Epoch 14/20\n",
      "Train Loss: 0.1644\n",
      "Epoch 15/20\n",
      "Train Loss: 0.2580\n",
      "Epoch 16/20\n",
      "Train Loss: 0.2469\n",
      "Epoch 17/20\n",
      "Train Loss: 0.1872\n",
      "Epoch 18/20\n",
      "Train Loss: 0.2308\n",
      "Epoch 19/20\n",
      "Train Loss: 0.2061\n",
      "Epoch 20/20\n",
      "Train Loss: 0.2517\n"
     ]
    },
    {
     "data": {
      "image/png": "[encoded data removed]",
      "text/plain": [
       "<Figure size 640x480 with 1 Axes>"
      ]
     },
     "metadata": {},
     "output_type": "display_data"
    },
    {
     "name": "stdout",
     "output_type": "stream",
     "text": [
      "\n",
      "Evaluating model...\n",
      "Test Accuracy: 74.29%\n",
      "Confusion Matrix:\n",
      "[[7 0 1 0]\n",
      " [3 6 0 0]\n",
      " [1 0 8 0]\n",
      " [0 0 4 5]]\n"
     ]
    },
    {
     "ename": "ValueError",
     "evalue": "too many values to unpack (expected 2)",
     "output_type": "error",
     "traceback": [
      "\u001b[1;31m---------------------------------------------------------------------------\u001b[0m",
      "\u001b[1;31mValueError\u001b[0m                                Traceback (most recent call last)",
      "Cell \u001b[1;32mIn[51], line 5\u001b[0m\n\u001b[0;32m      3\u001b[0m model \u001b[38;5;241m=\u001b[39m train_model(model, criterion, optimizer, scheduler, num_epochs\u001b[38;5;241m=\u001b[39m\u001b[38;5;241m20\u001b[39m)\n\u001b[0;32m      4\u001b[0m \u001b[38;5;28mprint\u001b[39m(\u001b[38;5;124m\"\u001b[39m\u001b[38;5;130;01m\\n\u001b[39;00m\u001b[38;5;124mEvaluating model...\u001b[39m\u001b[38;5;124m\"\u001b[39m)\n\u001b[1;32m----> 5\u001b[0m accuracy \u001b[38;5;241m=\u001b[39m \u001b[43mevaluate_model\u001b[49m\u001b[43m(\u001b[49m\u001b[43mmodel\u001b[49m\u001b[43m)\u001b[49m\n",
      "Cell \u001b[1;32mIn[49], line 22\u001b[0m, in \u001b[0;36mevaluate_model\u001b[1;34m(model)\u001b[0m\n\u001b[0;32m     20\u001b[0m \u001b[38;5;66;03m# Plot confusion matrix\u001b[39;00m\n\u001b[0;32m     21\u001b[0m plt\u001b[38;5;241m.\u001b[39mfigure(figsize\u001b[38;5;241m=\u001b[39m(\u001b[38;5;241m8\u001b[39m, \u001b[38;5;241m6\u001b[39m))\n\u001b[1;32m---> 22\u001b[0m pltrichment \u001b[38;5;241m=\u001b[39m cm, interpolation\u001b[38;5;241m=\u001b[39m\u001b[38;5;124m'\u001b[39m\u001b[38;5;124mnearest\u001b[39m\u001b[38;5;124m'\u001b[39m\n\u001b[0;32m     23\u001b[0m plt\u001b[38;5;241m.\u001b[39mtitle(\u001b[38;5;124m'\u001b[39m\u001b[38;5;124mConfusion Matrix\u001b[39m\u001b[38;5;124m'\u001b[39m)\n\u001b[0;32m     24\u001b[0m plt\u001b[38;5;241m.\u001b[39mcolorbar()\n",
      "\u001b[1;31mValueError\u001b[0m: too many values to unpack (expected 2)"
     ]
    },
    {
     "data": {
      "text/plain": [
       "<Figure size 800x600 with 0 Axes>"
      ]
     },
     "metadata": {},
     "output_type": "display_data"
    }
   ],
   "source": [
    "# Step 7: Train and Evaluate\n",
    "print(\"Starting training with AlexNet...\")\n",
    "model = train_model(model, criterion, optimizer, scheduler, num_epochs=20)\n",
    "print(\"\\nEvaluating model...\")\n",
    "accuracy = evaluate_model(model)"
   ]
  },
  {
   "cell_type": "code",
   "execution_count": 53,
   "id": "2c997bc4-5e5b-4de0-9ba4-bc6281f48efc",
   "metadata": {},
   "outputs": [
    {
     "name": "stdout",
     "output_type": "stream",
     "text": [
      "Model saved as 'soil_alexnet.pth'\n"
     ]
    }
   ],
   "source": [
    "# Step 8: Save the model\n",
    "torch.save(model.state_dict(), 'C:/Users/Harshith Y/Desktop/soil_alexnet.pth')\n",
    "print(\"Model saved as 'soil_alexnet.pth'\")"
   ]
  },
  {
   "cell_type": "code",
   "execution_count": null,
   "id": "35004af5-ebeb-470d-883c-402c1ee6bcd4",
   "metadata": {},
   "outputs": [],
   "source": []
  }
 ],
 "metadata": {
  "kernelspec": {
   "display_name": "Python 3 (ipykernel)",
   "language": "python",
   "name": "python3"
  },
  "language_info": {
   "codemirror_mode": {
    "name": "ipython",
    "version": 3
   },
   "file_extension": ".py",
   "mimetype": "text/x-python",
   "name": "python",
   "nbconvert_exporter": "python",
   "pygments_lexer": "ipython3",
   "version": "3.12.7"
  }
 },
 "nbformat": 4,
 "nbformat_minor": 5
}
